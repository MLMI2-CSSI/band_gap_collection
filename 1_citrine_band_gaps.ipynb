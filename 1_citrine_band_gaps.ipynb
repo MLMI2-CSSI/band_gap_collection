{
 "cells": [
  {
   "cell_type": "code",
   "execution_count": null,
   "metadata": {},
   "outputs": [],
   "source": [
    "# Standard packages\n",
    "import os\n",
    "\n",
    "# Third-party packages\n",
    "import numpy as np\n",
    "import pandas as pd\n",
    "import matplotlib.pyplot as plt\n",
    "%matplotlib inline\n",
    "\n",
    "# Set pandas view options\n",
    "pd.set_option('display.width', 1000)\n",
    "pd.set_option('display.max_columns', None)\n",
    "pd.set_option('display.max_rows', None)\n",
    "\n",
    "from matminer.data_retrieval.retrieve_Citrine import CitrineDataRetrieval\n",
    "from matminer.data_retrieval.retrieve_MP import MPDataRetrieval\n",
    "\n",
    "from pymatgen import MPRester\n",
    "\n",
    "# Filter warnings messages from the notebook\n",
    "import warnings\n",
    "warnings.filterwarnings('ignore')"
   ]
  },
  {
   "cell_type": "markdown",
   "metadata": {},
   "source": [
    "# Collect Experimental Band Gaps from Citrine"
   ]
  },
  {
   "cell_type": "code",
   "execution_count": null,
   "metadata": {},
   "outputs": [],
   "source": [
    "c = CitrineDataRetrieval(os.environ.get('CITRINATION_API_KEY'))"
   ]
  },
  {
   "cell_type": "code",
   "execution_count": null,
   "metadata": {},
   "outputs": [],
   "source": [
    "df = c.get_dataframe(properties=['Band gap'], common_fields=['chemicalFormula'],\n",
    "                     criteria={'data_type':'EXPERIMENTAL'},\n",
    "                     print_properties_options=False)\n",
    "\n",
    "df.to_csv(\"citrination_experimental_band_gaps.csv\")\n",
    "\n",
    "# Show first few rows of the DataFrame\n",
    "df.head()"
   ]
  },
  {
   "cell_type": "markdown",
   "metadata": {},
   "source": [
    "# Collect Materials Project Band Gaps\n",
    "\n",
    "## !!Doesn't work yet!!"
   ]
  },
  {
   "cell_type": "code",
   "execution_count": null,
   "metadata": {},
   "outputs": [],
   "source": [
    "def get_MP_bandgaps(formula):\n",
    "    try:\n",
    "        struct_lst = MPRester().get_data(formula)     # API key set as env variable \"MAPI_KEY\"\n",
    "    except:\n",
    "        return pd.Series({'Computed band gap': None})\n",
    "    if len(struct_lst) > 0:\n",
    "        struct_lst = sorted(struct_lst, key=lambda e: e['energy_per_atom'])\n",
    "        most_stable_entry = struct_lst[0]\n",
    "        return pd.Series({'Computed band gap': most_stable_entry['band_gap']})\n",
    "    else:\n",
    "        return pd.Series({'Computed band gap': None})"
   ]
  },
  {
   "cell_type": "code",
   "execution_count": null,
   "metadata": {},
   "outputs": [],
   "source": [
    "m = MPDataRetrieval(os.environ.get(\"MP_API_KEY\"))"
   ]
  },
  {
   "cell_type": "code",
   "execution_count": null,
   "metadata": {},
   "outputs": [],
   "source": [
    "df_mp = m.get_dataframe(properties=[\"band_gap\"], criteria=\"\")"
   ]
  },
  {
   "cell_type": "code",
   "execution_count": null,
   "metadata": {},
   "outputs": [],
   "source": [
    "df_mp"
   ]
  },
  {
   "cell_type": "code",
   "execution_count": null,
   "metadata": {},
   "outputs": [],
   "source": []
  }
 ],
 "metadata": {
  "kernelspec": {
   "display_name": "Python 3",
   "language": "python",
   "name": "python3"
  },
  "language_info": {
   "codemirror_mode": {
    "name": "ipython",
    "version": 3
   },
   "file_extension": ".py",
   "mimetype": "text/x-python",
   "name": "python",
   "nbconvert_exporter": "python",
   "pygments_lexer": "ipython3",
   "version": "3.6.10"
  }
 },
 "nbformat": 4,
 "nbformat_minor": 4
}
